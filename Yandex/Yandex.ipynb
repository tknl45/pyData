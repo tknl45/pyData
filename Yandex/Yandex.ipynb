{
 "cells": [
  {
   "cell_type": "code",
   "execution_count": 1,
   "metadata": {
    "colab": {
     "base_uri": "https://localhost:8080/",
     "height": 547
    },
    "colab_type": "code",
    "executionInfo": {
     "elapsed": 6457,
     "status": "ok",
     "timestamp": 1565878005360,
     "user": {
      "displayName": "Yeh Hsiang-Yuan",
      "photoUrl": "",
      "userId": "13595099456339688272"
     },
     "user_tz": -480
    },
    "id": "X6BGaRaobXTu",
    "outputId": "f5eb8ef9-4e41-4241-ed3c-ea37f0b7ea06"
   },
   "outputs": [
    {
     "name": "stdout",
     "output_type": "stream",
     "text": [
      "-------------------------------\n",
      "Training on 750 search sessions (677 unique queries).\n",
      "-------------------------------\n",
      "\tTrained PBM click model in 4 secs:\n",
      "PBMParamNames.attr\n",
      "18896602: {'28045079': 0.4963, '66222069': 0.6667, '66326309': 0.4987, '52334111': 0.4970, '12236869': 0.6667, '43571721': 0.4963, '58910663': 0.6667, '54099223': 0.6667, '39621370': 0.6667, '50020626': 0.4966}\n",
      "7600975: {'47872329': 0.4956, '60485854': 0.4890, '64426805': 0.4800, '45114654': 0.4518, '59181983': 0.4970, '13090448': 0.4963, '5787912': 0.4987, '8255310': 0.4966, '29361827': 0.4963, '36085243': 0.4949}\n",
      "15293650: {'70164926': 0.4966, '63238535': 0.4949, '67160294': 0.4970, '25723512': 0.4963, '4340589': 0.4987, '48069615': 0.4890, '45025328': 0.4963, '8584957': 0.4956, '22102711': 0.4518, '70153895': 0.4800}\n",
      "18899864: {'51413154': 0.4963, '14669307': 0.4890, '47427536': 0.4956, '39622388': 0.4970, '58931164': 0.4800, '51038152': 0.4987, '15804246': 0.4966, '47608980': 0.4963, '47609932': 0.4518, '12234946': 0.4949}\n",
      "21291148: {'44144489': 0.4963, '2332690': 0.4949, '59837808': 0.4963, '44137761': 0.6667, '44137781': 0.4800, '47925815': 0.4890, '61426194': 0.4987, '44150209': 0.4966, '26434556': 0.4956, '44141871': 0.4970}\n",
      "19907103: {'60619250': 0.4956, '67488835': 0.4890, '17665586': 0.4963, '18728968': 0.4970, '53406791': 0.4800, '332943': 0.4518, '32589642': 0.4987, '42243906': 0.4949, '46840536': 0.4966, '26166872': 0.4963}\n",
      "6052479: {'34153017': 0.4966, '34102637': 0.4518, '15444404': 0.4890, '52628267': 0.4949, '12813279': 0.4970, '62422333': 0.4956, '43630521': 0.4963, '8392776': 0.4987, '57785456': 0.4963, '34175267': 0.4800}\n",
      "11610848: {'14612563': 0.4970, '53946861': 0.4800, '11486346': 0.4963, '26133763': 0.4956, '58510288': 0.4966, '8466015': 0.4963, '30015686': 0.4949, '16456982': 0.4518, '8822133': 0.4987, '52925058': 0.4890}\n",
      "5635984: {'13712534': 0.4963, '61094146': 0.4800, '25124357': 0.4987, '47624097': 0.4956, '61093968': 0.4518, '4482058': 0.4966, '27476585': 0.4970, '63422502': 0.4963, '60734137': 0.4890, '47624967': 0.4949}\n",
      "7360109: {'26082746': 0.4966, '16272735': 0.4987, '23494636': 0.4949, '15569609': 0.4963, '32210190': 0.4963, '43417355': 0.4800, '43419481': 0.4890, '58994413': 0.4970, '66803354': 0.4956, '43414453': 0.6667}\n",
      "6158180: {'12657537': 0.4890, '2958400': 0.4987, '8264492': 0.4963, '53635480': 0.4800, '59719972': 0.4970, '67230057': 0.4963, '58315282': 0.4966, '36544755': 0.6667, '13956539': 0.4949, '5128210': 0.4956}\n",
      "\n",
      "PBMParamNames.exam\n",
      "0.3310 0.1491 0.0842 0.0349 0.0402 0.0294 0.0268 0.0294 0.0241 0.0107\n",
      "\n",
      "\n",
      "-------------------------------\n",
      "Testing on 3 search sessions (3 unique queries).\n",
      "-------------------------------\n",
      "\tlog-likelihood: -0.037663; time: 0 secs\n",
      "\tperplexity: 1.039501; time: 0 secs\n",
      "\n",
      "[{\"query\": \"21307448\", \"task\": \"34574441\", \"web_results\": [{\"click\": 0, \"id\": \"66529216\"}, {\"click\": 0, \"id\": \"66529221\"}, {\"click\": 0, \"id\": \"14000236\"}, {\"click\": 0, \"id\": \"54153136\"}, {\"click\": 0, \"id\": \"43670502\"}, {\"click\": 0, \"id\": \"26365680\"}, {\"click\": 0, \"id\": \"32569236\"}, {\"click\": 0, \"id\": \"40861095\"}, {\"click\": 0, \"id\": \"49015756\"}, {\"click\": 0, \"id\": \"34223504\"}]}, {\"query\": \"4605457\", \"task\": \"34574448\", \"web_results\": [{\"click\": 0, \"id\": \"39061378\"}, {\"click\": 0, \"id\": \"29220341\"}, {\"click\": 0, \"id\": \"2522212\"}, {\"click\": 0, \"id\": \"27398472\"}, {\"click\": 0, \"id\": \"36612684\"}, {\"click\": 0, \"id\": \"27221002\"}, {\"click\": 0, \"id\": \"2522317\"}, {\"click\": 0, \"id\": \"21250468\"}, {\"click\": 0, \"id\": \"69693878\"}, {\"click\": 0, \"id\": \"34192218\"}]}, {\"query\": \"7139119\", \"task\": \"34574492\", \"web_results\": [{\"click\": 0, \"id\": \"19598565\"}, {\"click\": 0, \"id\": \"14946237\"}, {\"click\": 0, \"id\": \"11808670\"}, {\"click\": 0, \"id\": \"22538202\"}, {\"click\": 0, \"id\": \"50649996\"}, {\"click\": 0, \"id\": \"21612035\"}, {\"click\": 0, \"id\": \"8849026\"}, {\"click\": 0, \"id\": \"30249738\"}, {\"click\": 0, \"id\": \"71001924\"}, {\"click\": 0, \"id\": \"66181075\"}]}]\n",
      "{'4605457', '21307448', '7139119'}\n",
      "odict_values([34574441:['21307448'], 34574448:['4605457'], 34574492:['7139119']])\n"
     ]
    }
   ],
   "source": [
    "import sys\n",
    "import time\n",
    "from pyclick.click_models.Evaluation import LogLikelihood, Perplexity\n",
    "from pyclick.click_models.UBM import UBM\n",
    "from pyclick.click_models.DBN import DBN\n",
    "from pyclick.click_models.SDBN import SDBN\n",
    "from pyclick.click_models.DCM import DCM\n",
    "from pyclick.click_models.CCM import CCM\n",
    "from pyclick.click_models.CTR import DCTR, RCTR, GCTR\n",
    "from pyclick.click_models.CM import CM\n",
    "from pyclick.click_models.PBM import PBM\n",
    "from pyclick.utils.Utils import Utils\n",
    "from pyclick.click_models.task_centric.SearchTask import SearchTask\n",
    "from pyclick.click_models.task_centric.TCM import TCM\n",
    "from pyclick.utils.YandexRelPredChallengeParser import YandexRelPredChallengeParser\n",
    "from pyclick.utils.YandexPersonalizedChallengeParser import YandexPersonalizedChallengeParser\n",
    "\n",
    "click_model = PBM()\n",
    "search_sessions_path = \"data/YandexPersonalizedChallenge\"\n",
    "search_sessions_num = 1000\n",
    "\n",
    "#search_sessions = YandexRelPredChallengeParser().parse(search_sessions_path, search_sessions_num)\n",
    "search_sessions = YandexPersonalizedChallengeParser().parse(search_sessions_path, search_sessions_num) #for YandexPersonalizedChallengeParser\n",
    "\n",
    "train_test_split = int(len(search_sessions) * 0.75)\n",
    "train_sessions = search_sessions[:train_test_split]\n",
    "train_queries = Utils.get_unique_queries(train_sessions)\n",
    "train_tasks = SearchTask.get_search_tasks(train_sessions) #for tcm model\n",
    "\n",
    "test_sessions = Utils.filter_sessions(search_sessions[train_test_split:], train_queries)\n",
    "test_queries = Utils.get_unique_queries(test_sessions)\n",
    "test_tasks = SearchTask.get_search_tasks(test_sessions) #for tcm model\n",
    "\n",
    "print(\"-------------------------------\")\n",
    "print(\"Training on %d search sessions (%d unique queries).\" % (len(train_sessions), len(train_queries)))\n",
    "print(\"-------------------------------\")\n",
    "\n",
    "start = time.time()\n",
    "click_model.train(train_sessions)\n",
    "#click_model.train(train_tasks)  #for tcm model\n",
    "end = time.time()\n",
    "print(\"\\tTrained %s click model in %i secs:\\n%r\" % (click_model.__class__.__name__, end - start, click_model))\n",
    "\n",
    "print(\"-------------------------------\")\n",
    "print(\"Testing on %d search sessions (%d unique queries).\" % (len(test_sessions), len(test_queries)))\n",
    "print(\"-------------------------------\")\n",
    "\n",
    "loglikelihood = LogLikelihood()\n",
    "perplexity = Perplexity()\n",
    "\n",
    "start = time.time()\n",
    "ll_value = loglikelihood.evaluate(click_model, test_sessions)\n",
    "end = time.time()\n",
    "print(\"\\tlog-likelihood: %f; time: %i secs\" % (ll_value, end - start))\n",
    "\n",
    "start = time.time()\n",
    "perp_value = perplexity.evaluate(click_model, test_sessions)[0]\n",
    "end = time.time()\n",
    "print(\"\\tperplexity: %f; time: %i secs\\n\" % (perp_value, end - start))\n",
    "\n",
    "print(test_sessions)\n",
    "print(test_queries)\n",
    "print(test_tasks)"
   ]
  },
  {
   "cell_type": "code",
   "execution_count": null,
   "metadata": {
    "colab": {},
    "colab_type": "code",
    "id": "mzhegpQ0wQCF"
   },
   "outputs": [],
   "source": []
  }
 ],
 "metadata": {
  "colab": {
   "collapsed_sections": [],
   "name": "Yandex.ipynb",
   "provenance": [],
   "version": "0.3.2"
  },
  "kernelspec": {
   "display_name": "Python 3",
   "language": "python",
   "name": "python3"
  },
  "language_info": {
   "codemirror_mode": {
    "name": "ipython",
    "version": 3
   },
   "file_extension": ".py",
   "mimetype": "text/x-python",
   "name": "python",
   "nbconvert_exporter": "python",
   "pygments_lexer": "ipython3",
   "version": "3.5.2"
  }
 },
 "nbformat": 4,
 "nbformat_minor": 1
}
