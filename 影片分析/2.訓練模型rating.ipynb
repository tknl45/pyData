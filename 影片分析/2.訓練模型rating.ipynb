{
 "cells": [
  {
   "cell_type": "code",
   "execution_count": 1,
   "metadata": {},
   "outputs": [
    {
     "name": "stderr",
     "output_type": "stream",
     "text": [
      "Using TensorFlow backend.\n"
     ]
    }
   ],
   "source": [
    "#引用相關函式\n",
    "\n",
    "import argparse\n",
    "import numpy as np\n",
    "import pandas as pd\n",
    "from tqdm import tqdm\n",
    "\n",
    "import tensorflow as tf\n",
    "config = tf.ConfigProto()\n",
    "config.gpu_options.allow_growth = True\n",
    "\n",
    "import keras\n",
    "import keras.backend as K\n",
    "from keras.models import Model\n",
    "from keras.utils import to_categorical\n",
    "from keras.callbacks import ModelCheckpoint\n",
    "from keras.losses import categorical_crossentropy\n",
    "from keras.layers import Input, Dense, Dropout, CuDNNGRU, Embedding\n",
    "\n",
    "import matplotlib.pyplot as plt\n"
   ]
  },
  {
   "cell_type": "code",
   "execution_count": 2,
   "metadata": {},
   "outputs": [],
   "source": [
    "# 引用Session-based Recommendations with Recurrent Neural Networks\n",
    "class SessionDataset:\n",
    "    \"\"\"Credit to yhs-968/pyGRU4REC.\"\"\"    \n",
    "    def __init__(self, data, sep='\\t', session_key='SessionId', item_key='ItemId', time_key='Time', n_samples=-1, itemmap=None, time_sort=False):\n",
    "        \"\"\"\n",
    "        Args:\n",
    "            path: path of the csv file\n",
    "            sep: separator for the csv\n",
    "            session_key, item_key, time_key: name of the fields corresponding to the sessions, items, time\n",
    "            n_samples: the number of samples to use. If -1, use the whole dataset.\n",
    "            itemmap: mapping between item IDs and item indices\n",
    "            time_sort: whether to sort the sessions by time or not\n",
    "        \"\"\"\n",
    "        self.df = data\n",
    "        self.session_key = session_key\n",
    "        self.item_key = item_key\n",
    "        self.time_key = time_key\n",
    "        self.time_sort = time_sort\n",
    "        self.add_item_indices(itemmap=itemmap)\n",
    "        self.df.sort_values([session_key, time_key], inplace=True)\n",
    "\n",
    "        # Sort the df by time, and then by session ID. That is, df is sorted by session ID and\n",
    "        # clicks within a session are next to each other, where the clicks within a session are time-ordered.\n",
    "\n",
    "        self.click_offsets = self.get_click_offsets()\n",
    "        self.session_idx_arr = self.order_session_idx()\n",
    "        \n",
    "    def get_click_offsets(self):\n",
    "        \"\"\"\n",
    "        Return the offsets of the beginning clicks of each session IDs,\n",
    "        where the offset is calculated against the first click of the first session ID.\n",
    "        \"\"\"\n",
    "        offsets = np.zeros(self.df[self.session_key].nunique() + 1, dtype=np.int32)\n",
    "        # group & sort the df by session_key and get the offset values\n",
    "        offsets[1:] = self.df.groupby(self.session_key).size().cumsum()\n",
    "\n",
    "        return offsets\n",
    "\n",
    "    def order_session_idx(self):\n",
    "        \"\"\" Order the session indices \"\"\"\n",
    "        if self.time_sort:\n",
    "            # starting time for each sessions, sorted by session IDs\n",
    "            sessions_start_time = self.df.groupby(self.session_key)[self.time_key].min().values\n",
    "            # order the session indices by session starting times\n",
    "            session_idx_arr = np.argsort(sessions_start_time)\n",
    "        else:\n",
    "            session_idx_arr = np.arange(self.df[self.session_key].nunique())\n",
    "\n",
    "        return session_idx_arr\n",
    "    \n",
    "    def add_item_indices(self, itemmap=None):\n",
    "        \"\"\" \n",
    "        Add item index column named \"item_idx\" to the df\n",
    "        Args:\n",
    "            itemmap (pd.DataFrame): mapping between the item Ids and indices\n",
    "        \"\"\"\n",
    "        if itemmap is None:\n",
    "            item_ids = self.df[self.item_key].unique()  # unique item ids\n",
    "            item2idx = pd.Series(data=np.arange(len(item_ids)),\n",
    "                                 index=item_ids)\n",
    "            itemmap = pd.DataFrame({self.item_key:item_ids,\n",
    "                                   'item_idx':item2idx[item_ids].values})\n",
    "        \n",
    "        self.itemmap = itemmap\n",
    "        self.df = pd.merge(self.df, self.itemmap, on=self.item_key, how='inner')\n",
    "        \n",
    "    @property    \n",
    "    def items(self):\n",
    "        return self.itemmap.ItemId.unique()\n",
    "        \n",
    "\n",
    "class SessionDataLoader:\n",
    "    \"\"\"Credit to yhs-968/pyGRU4REC.\"\"\"    \n",
    "    def __init__(self, dataset, batch_size=50):\n",
    "        \"\"\"\n",
    "        A class for creating session-parallel mini-batches.\n",
    "        Args:\n",
    "            dataset (SessionDataset): the session dataset to generate the batches from\n",
    "            batch_size (int): size of the batch\n",
    "        \"\"\"\n",
    "        self.dataset = dataset\n",
    "        self.batch_size = batch_size\n",
    "        self.done_sessions_counter = 0\n",
    "        \n",
    "    def __iter__(self):\n",
    "        \"\"\" Returns the iterator for producing session-parallel training mini-batches.\n",
    "        Yields:\n",
    "            input (B,):  Item indices that will be encoded as one-hot vectors later.\n",
    "            target (B,): a Variable that stores the target item indices\n",
    "            masks: Numpy array indicating the positions of the sessions to be terminated\n",
    "        \"\"\"\n",
    "\n",
    "        df = self.dataset.df\n",
    "        session_key='SessionId'\n",
    "        item_key='ItemId'\n",
    "        time_key='TimeStamp'\n",
    "        self.n_items = df[item_key].nunique()+1\n",
    "        click_offsets = self.dataset.click_offsets\n",
    "        session_idx_arr = self.dataset.session_idx_arr\n",
    "\n",
    "        iters = np.arange(self.batch_size)\n",
    "        maxiter = iters.max()\n",
    "        start = click_offsets[session_idx_arr[iters]]\n",
    "        end = click_offsets[session_idx_arr[iters] + 1]\n",
    "        mask = [] # indicator for the sessions to be terminated\n",
    "        finished = False        \n",
    "\n",
    "        while not finished:\n",
    "            minlen = (end - start).min()\n",
    "            # Item indices (for embedding) for clicks where the first sessions start\n",
    "            idx_target = df.item_idx.values[start]\n",
    "            for i in range(minlen - 1):\n",
    "                # Build inputs & targets\n",
    "                idx_input = idx_target\n",
    "                idx_target = df.item_idx.values[start + i + 1]\n",
    "                inp = idx_input\n",
    "                target = idx_target\n",
    "                yield inp, target, mask\n",
    "                \n",
    "            # click indices where a particular session meets second-to-last element\n",
    "            start = start + (minlen - 1)\n",
    "            # see if how many sessions should terminate\n",
    "            mask = np.arange(len(iters))[(end - start) <= 1]\n",
    "            self.done_sessions_counter = len(mask)\n",
    "            for idx in mask:\n",
    "                maxiter += 1\n",
    "                if maxiter >= len(click_offsets) - 1:\n",
    "                    finished = True\n",
    "                    break\n",
    "                # update the next starting/ending point\n",
    "                iters[idx] = maxiter\n",
    "                start[idx] = click_offsets[session_idx_arr[maxiter]]\n",
    "                end[idx] = click_offsets[session_idx_arr[maxiter] + 1]\n",
    "\n",
    "\n",
    "def create_model(args):   \n",
    "    emb_size = 50\n",
    "    hidden_units = 100\n",
    "    size = emb_size\n",
    "\n",
    "    inputs = Input(batch_shape=(args.batch_size, 1, args.train_n_items))\n",
    "    gru, gru_states = CuDNNGRU(hidden_units, stateful=True, return_state=True)(inputs)\n",
    "    drop2 = Dropout(0.25)(gru)\n",
    "    predictions = Dense(args.train_n_items, activation='softmax')(drop2)\n",
    "    model = Model(inputs=inputs, outputs=[predictions])\n",
    "    opt = keras.optimizers.Adam(lr=0.001, beta_1=0.9, beta_2=0.999, epsilon=None, decay=0.0, amsgrad=False)\n",
    "    model.compile(loss=categorical_crossentropy, optimizer=opt)\n",
    "    model.summary()\n",
    "\n",
    "    filepath='model_checkpoint.h5'\n",
    "    checkpoint = ModelCheckpoint(filepath, monitor='loss', verbose=2, save_best_only=True, mode='min')\n",
    "    callbacks_list = []\n",
    "    return model\n",
    "\n",
    "\n",
    "def get_states(model):\n",
    "    return [K.get_value(s) for s,_ in model.state_updates]\n",
    "\n",
    "\n",
    "def get_metrics(model, args, train_generator_map, recall_k=20, mrr_k=20):\n",
    "\n",
    "    test_dataset = SessionDataset(args.test_data, itemmap=train_generator_map)\n",
    "    test_generator = SessionDataLoader(test_dataset, batch_size=args.batch_size)\n",
    "\n",
    "    n = 0\n",
    "    rec_sum = 0\n",
    "    mrr_sum = 0\n",
    "\n",
    "    with tqdm(total=args.test_samples_qty) as pbar:\n",
    "        for feat, label, mask in test_generator:\n",
    "\n",
    "            target_oh = to_categorical(label, num_classes=args.train_n_items)\n",
    "            input_oh  = to_categorical(feat,  num_classes=args.train_n_items) \n",
    "            input_oh = np.expand_dims(input_oh, axis=1)\n",
    "            \n",
    "            pred = model.predict(input_oh, batch_size=args.batch_size)\n",
    "\n",
    "            for row_idx in range(feat.shape[0]):\n",
    "                pred_row = pred[row_idx] \n",
    "                label_row = target_oh[row_idx]\n",
    "\n",
    "                rec_idx =  pred_row.argsort()[-recall_k:][::-1]\n",
    "                mrr_idx =  pred_row.argsort()[-mrr_k:][::-1]\n",
    "                tru_idx = label_row.argsort()[-1:][::-1]\n",
    "\n",
    "                n += 1\n",
    "\n",
    "                if tru_idx[0] in rec_idx:\n",
    "                    rec_sum += 1\n",
    "\n",
    "                if tru_idx[0] in mrr_idx:\n",
    "                    mrr_sum += 1/int((np.where(mrr_idx == tru_idx[0])[0]+1))\n",
    "            \n",
    "            pbar.set_description(\"Evaluating model\")\n",
    "            pbar.update(test_generator.done_sessions_counter)\n",
    "\n",
    "    recall = rec_sum/n\n",
    "    mrr = mrr_sum/n\n",
    "    return (recall, recall_k), (mrr, mrr_k)\n",
    "\n",
    "\n",
    "def train_model(model, args, save_weights = False):\n",
    "    train_dataset = SessionDataset(args.train_data)\n",
    "    model_to_train = model\n",
    "    batch_size = args.batch_size\n",
    "    \n",
    "   \n",
    "    x = [i for i in range(1,10)]\n",
    "    y_recall = []\n",
    "    y_mrr = []\n",
    "    \n",
    "    for epoch in range(1, 10):\n",
    "        with tqdm(total=args.train_samples_qty) as pbar:\n",
    "            loader = SessionDataLoader(train_dataset, batch_size=batch_size)\n",
    "            for feat, target, mask in loader:\n",
    "                \n",
    "                real_mask = np.ones((batch_size, 1))\n",
    "                for elt in mask:\n",
    "                    real_mask[elt, :] = 0\n",
    "\n",
    "                hidden_states = get_states(model_to_train)[0]\n",
    "                hidden_states = np.multiply(real_mask, hidden_states)\n",
    "                hidden_states = np.array(hidden_states, dtype=np.float32)\n",
    "                model_to_train.layers[1].reset_states(hidden_states)\n",
    "\n",
    "                input_oh = to_categorical(feat, num_classes=loader.n_items) \n",
    "                input_oh = np.expand_dims(input_oh, axis=1)\n",
    "\n",
    "                target_oh = to_categorical(target, num_classes=loader.n_items)\n",
    "\n",
    "                tr_loss = model_to_train.train_on_batch(input_oh, target_oh)\n",
    "\n",
    "                pbar.set_description(\"Epoch {0}. Loss: {1:.5f}\".format(epoch, tr_loss))\n",
    "                pbar.update(loader.done_sessions_counter)\n",
    "            \n",
    "        \n",
    "        if save_weights:\n",
    "            print(\"Saving weights...\")\n",
    "            model_to_train.save('GRU4REC_{}.h5'.format(epoch))\n",
    "        \n",
    "        \n",
    "        \n",
    "        (rec, rec_k), (mrr, mrr_k) = get_metrics(model_to_train, args, train_dataset.itemmap)\n",
    "        y_recall.append(rec)\n",
    "        y_mrr.append(mrr)\n",
    "\n",
    "        print(\"\\t - Recall@{} epoch {}: {:5f}\".format(rec_k, epoch, rec))\n",
    "        print(\"\\t - MRR@{}    epoch {}: {:5f}\".format(mrr_k, epoch, mrr))\n",
    "        print(\"\\n\")\n",
    "        \n",
    "    plt.figure(figsize=(8,4))\n",
    "    plt.plot(x,y_recall,label=\"recall@{}\".format(rec_k))\n",
    "    plt.plot(x,y_mrr,label=\"mrr@{}\".format(mrr_k))\n",
    "    plt.xlabel(\"epoch\")\n",
    "    plt.show()\n",
    "        \n",
    "        \n"
   ]
  },
  {
   "cell_type": "code",
   "execution_count": 3,
   "metadata": {},
   "outputs": [
    {
     "name": "stdout",
     "output_type": "stream",
     "text": [
      "訓練影片數目: 11619\n",
      "訓練使用者數目: 19854\n",
      "測試使用者數目: 5272\n",
      "WARNING:tensorflow:From /usr/local/lib/python3.5/dist-packages/tensorflow/python/framework/op_def_library.py:263: colocate_with (from tensorflow.python.framework.ops) is deprecated and will be removed in a future version.\n",
      "Instructions for updating:\n",
      "Colocations handled automatically by placer.\n",
      "WARNING:tensorflow:From /usr/local/lib/python3.5/dist-packages/keras/backend/tensorflow_backend.py:3445: calling dropout (from tensorflow.python.ops.nn_ops) with keep_prob is deprecated and will be removed in a future version.\n",
      "Instructions for updating:\n",
      "Please use `rate` instead of `keep_prob`. Rate should be set to `rate = 1 - keep_prob`.\n",
      "_________________________________________________________________\n",
      "Layer (type)                 Output Shape              Param #   \n",
      "=================================================================\n",
      "input_1 (InputLayer)         (512, 1, 11619)           0         \n",
      "_________________________________________________________________\n",
      "cu_dnngru_1 (CuDNNGRU)       [(512, 100), (512, 100)]  3516300   \n",
      "_________________________________________________________________\n",
      "dropout_1 (Dropout)          (512, 100)                0         \n",
      "_________________________________________________________________\n",
      "dense_1 (Dense)              (512, 11619)              1173519   \n",
      "=================================================================\n",
      "Total params: 4,689,819\n",
      "Trainable params: 4,689,819\n",
      "Non-trainable params: 0\n",
      "_________________________________________________________________\n"
     ]
    },
    {
     "name": "stderr",
     "output_type": "stream",
     "text": [
      "\r",
      "  0%|          | 0/19854 [00:00<?, ?it/s]"
     ]
    },
    {
     "name": "stdout",
     "output_type": "stream",
     "text": [
      "WARNING:tensorflow:From /usr/local/lib/python3.5/dist-packages/tensorflow/python/ops/math_ops.py:3066: to_int32 (from tensorflow.python.ops.math_ops) is deprecated and will be removed in a future version.\n",
      "Instructions for updating:\n",
      "Use tf.cast instead.\n"
     ]
    },
    {
     "name": "stderr",
     "output_type": "stream",
     "text": [
      "Epoch 1. Loss: 2.13830: : 24422it [08:07, 50.14it/s]                         \n"
     ]
    },
    {
     "name": "stdout",
     "output_type": "stream",
     "text": [
      "Saving weights...\n"
     ]
    },
    {
     "name": "stderr",
     "output_type": "stream",
     "text": [
      "Evaluating model:  82%|████████▏ | 4327/5272 [03:49<00:50, 18.82it/s]\n",
      "Epoch 2. Loss: 3.90081:   0%|          | 0/19854 [00:00<?, ?it/s]"
     ]
    },
    {
     "name": "stdout",
     "output_type": "stream",
     "text": [
      "\t - Recall@20 epoch 1: 0.074617\n",
      "\t - MRR@20    epoch 1: 0.014418\n",
      "\n",
      "\n"
     ]
    },
    {
     "name": "stderr",
     "output_type": "stream",
     "text": [
      "Epoch 2. Loss: 1.89451: : 24422it [05:21, 75.99it/s]                          \n"
     ]
    },
    {
     "name": "stdout",
     "output_type": "stream",
     "text": [
      "Saving weights...\n"
     ]
    },
    {
     "name": "stderr",
     "output_type": "stream",
     "text": [
      "Evaluating model:  82%|████████▏ | 4327/5272 [03:50<00:50, 18.79it/s]\n",
      "Epoch 3. Loss: 3.86672:   0%|          | 0/19854 [00:00<?, ?it/s]"
     ]
    },
    {
     "name": "stdout",
     "output_type": "stream",
     "text": [
      "\t - Recall@20 epoch 2: 0.078972\n",
      "\t - MRR@20    epoch 2: 0.014948\n",
      "\n",
      "\n"
     ]
    },
    {
     "name": "stderr",
     "output_type": "stream",
     "text": [
      "Epoch 3. Loss: 1.60394: : 24422it [05:21, 75.96it/s]                          \n"
     ]
    },
    {
     "name": "stdout",
     "output_type": "stream",
     "text": [
      "Saving weights...\n"
     ]
    },
    {
     "name": "stderr",
     "output_type": "stream",
     "text": [
      "Evaluating model:  82%|████████▏ | 4327/5272 [03:51<00:50, 18.68it/s]\n",
      "Epoch 4. Loss: 3.84048:   0%|          | 0/19854 [00:00<?, ?it/s]"
     ]
    },
    {
     "name": "stdout",
     "output_type": "stream",
     "text": [
      "\t - Recall@20 epoch 3: 0.082872\n",
      "\t - MRR@20    epoch 3: 0.015361\n",
      "\n",
      "\n"
     ]
    },
    {
     "name": "stderr",
     "output_type": "stream",
     "text": [
      "Epoch 4. Loss: 1.48172: : 24422it [05:21, 76.07it/s]                          \n"
     ]
    },
    {
     "name": "stdout",
     "output_type": "stream",
     "text": [
      "Saving weights...\n"
     ]
    },
    {
     "name": "stderr",
     "output_type": "stream",
     "text": [
      "Evaluating model:  82%|████████▏ | 4327/5272 [03:51<00:50, 18.72it/s]\n",
      "Epoch 5. Loss: 3.79302:   0%|          | 0/19854 [00:00<?, ?it/s]"
     ]
    },
    {
     "name": "stdout",
     "output_type": "stream",
     "text": [
      "\t - Recall@20 epoch 4: 0.081519\n",
      "\t - MRR@20    epoch 4: 0.015205\n",
      "\n",
      "\n"
     ]
    },
    {
     "name": "stderr",
     "output_type": "stream",
     "text": [
      "Epoch 5. Loss: 1.51544: : 24422it [05:20, 76.22it/s]                          \n"
     ]
    },
    {
     "name": "stdout",
     "output_type": "stream",
     "text": [
      "Saving weights...\n"
     ]
    },
    {
     "name": "stderr",
     "output_type": "stream",
     "text": [
      "Evaluating model:  82%|████████▏ | 4327/5272 [03:51<00:50, 18.68it/s]\n",
      "Epoch 6. Loss: 3.75365:   0%|          | 0/19854 [00:00<?, ?it/s]"
     ]
    },
    {
     "name": "stdout",
     "output_type": "stream",
     "text": [
      "\t - Recall@20 epoch 5: 0.082587\n",
      "\t - MRR@20    epoch 5: 0.015308\n",
      "\n",
      "\n"
     ]
    },
    {
     "name": "stderr",
     "output_type": "stream",
     "text": [
      "Epoch 6. Loss: 1.51202: : 24422it [05:22, 75.73it/s]                          \n"
     ]
    },
    {
     "name": "stdout",
     "output_type": "stream",
     "text": [
      "Saving weights...\n"
     ]
    },
    {
     "name": "stderr",
     "output_type": "stream",
     "text": [
      "Evaluating model:  82%|████████▏ | 4327/5272 [03:56<00:51, 18.30it/s]\n",
      "Epoch 7. Loss: 3.74830:   0%|          | 0/19854 [00:00<?, ?it/s]"
     ]
    },
    {
     "name": "stdout",
     "output_type": "stream",
     "text": [
      "\t - Recall@20 epoch 6: 0.082606\n",
      "\t - MRR@20    epoch 6: 0.015379\n",
      "\n",
      "\n"
     ]
    },
    {
     "name": "stderr",
     "output_type": "stream",
     "text": [
      "Epoch 7. Loss: 1.51851: : 24422it [05:23, 75.48it/s]                          \n"
     ]
    },
    {
     "name": "stdout",
     "output_type": "stream",
     "text": [
      "Saving weights...\n"
     ]
    },
    {
     "name": "stderr",
     "output_type": "stream",
     "text": [
      "Evaluating model:  82%|████████▏ | 4327/5272 [03:52<00:50, 18.65it/s]\n",
      "Epoch 8. Loss: 3.72219:   0%|          | 0/19854 [00:00<?, ?it/s]"
     ]
    },
    {
     "name": "stdout",
     "output_type": "stream",
     "text": [
      "\t - Recall@20 epoch 7: 0.083390\n",
      "\t - MRR@20    epoch 7: 0.015447\n",
      "\n",
      "\n"
     ]
    },
    {
     "name": "stderr",
     "output_type": "stream",
     "text": [
      "Epoch 8. Loss: 1.57343: : 24422it [05:23, 75.55it/s]                          \n"
     ]
    },
    {
     "name": "stdout",
     "output_type": "stream",
     "text": [
      "Saving weights...\n"
     ]
    },
    {
     "name": "stderr",
     "output_type": "stream",
     "text": [
      "Evaluating model:  82%|████████▏ | 4327/5272 [03:56<00:51, 18.26it/s]\n",
      "Epoch 9. Loss: 3.58998:   0%|          | 0/19854 [00:00<?, ?it/s]"
     ]
    },
    {
     "name": "stdout",
     "output_type": "stream",
     "text": [
      "\t - Recall@20 epoch 8: 0.084117\n",
      "\t - MRR@20    epoch 8: 0.015552\n",
      "\n",
      "\n"
     ]
    },
    {
     "name": "stderr",
     "output_type": "stream",
     "text": [
      "Epoch 9. Loss: 1.57474: : 24422it [05:22, 75.66it/s]                          \n"
     ]
    },
    {
     "name": "stdout",
     "output_type": "stream",
     "text": [
      "Saving weights...\n"
     ]
    },
    {
     "name": "stderr",
     "output_type": "stream",
     "text": [
      "Evaluating model:  82%|████████▏ | 4327/5272 [03:52<00:50, 18.63it/s]"
     ]
    },
    {
     "name": "stdout",
     "output_type": "stream",
     "text": [
      "\t - Recall@20 epoch 9: 0.084041\n",
      "\t - MRR@20    epoch 9: 0.015591\n",
      "\n",
      "\n"
     ]
    },
    {
     "name": "stderr",
     "output_type": "stream",
     "text": [
      "\n"
     ]
    },
    {
     "data": {
      "image/png": "[encoded data removed]",
      "text/plain": [
       "<Figure size 576x288 with 1 Axes>"
      ]
     },
     "metadata": {
      "needs_background": "light"
     },
     "output_type": "display_data"
    }
   ],
   "source": [
    "# 建立DataSet物件\n",
    "class DataSet():\n",
    "    def __init__(self):\n",
    "        pass\n",
    "\n",
    "dataSet = DataSet()\n",
    "\n",
    "# 寫入物件所需參數 \n",
    "# batch_size\n",
    "dataSet.batch_size = 512\n",
    "# 處理過的訓練資料\n",
    "dataSet.train_data = pd.read_csv(\"data/augmented_train.csv\", sep='\\t', dtype={'ItemId': np.int64})\n",
    "# 開發資料\n",
    "dataSet.dev_data   = pd.read_csv(\"data/dev.csv\",   sep='\\t', dtype={'ItemId': np.int64})\n",
    "# 測試資料\n",
    "dataSet.test_data  = pd.read_csv(\"data/test.csv\",  sep='\\t', dtype={'ItemId': np.int64})\n",
    "# 影片數目\n",
    "dataSet.train_n_items = len(dataSet.train_data['ItemId'].unique()) + 1\n",
    "print(\"訓練影片數目:\", dataSet.train_n_items)\n",
    "# 使用者數目\n",
    "dataSet.train_samples_qty = len(dataSet.train_data['SessionId'].unique()) + 1\n",
    "print(\"訓練使用者數目:\", dataSet.train_samples_qty)\n",
    "dataSet.test_samples_qty = len(dataSet.test_data['SessionId'].unique()) + 1\n",
    "print(\"測試使用者數目:\", dataSet.test_samples_qty)\n",
    "\n",
    "# 建立模型\n",
    "model = create_model(dataSet)\n",
    "\n",
    "# 訓練模型\n",
    "train_model(model, dataSet, save_weights=True)"
   ]
  },
  {
   "cell_type": "code",
   "execution_count": null,
   "metadata": {},
   "outputs": [],
   "source": []
  }
 ],
 "metadata": {
  "kernelspec": {
   "display_name": "Python 3",
   "language": "python",
   "name": "python3"
  },
  "language_info": {
   "codemirror_mode": {
    "name": "ipython",
    "version": 3
   },
   "file_extension": ".py",
   "mimetype": "text/x-python",
   "name": "python",
   "nbconvert_exporter": "python",
   "pygments_lexer": "ipython3",
   "version": "3.5.2"
  }
 },
 "nbformat": 4,
 "nbformat_minor": 2
}
