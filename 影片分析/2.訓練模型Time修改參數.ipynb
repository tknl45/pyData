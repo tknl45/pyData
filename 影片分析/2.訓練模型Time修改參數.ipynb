{
 "cells": [
  {
   "cell_type": "code",
   "execution_count": 1,
   "metadata": {},
   "outputs": [
    {
     "name": "stderr",
     "output_type": "stream",
     "text": [
      "Using TensorFlow backend.\n"
     ]
    }
   ],
   "source": [
    "#引用相關函式\n",
    "\n",
    "import argparse\n",
    "import numpy as np\n",
    "import pandas as pd\n",
    "from tqdm import tqdm\n",
    "\n",
    "import tensorflow as tf\n",
    "config = tf.ConfigProto()\n",
    "config.gpu_options.allow_growth = True\n",
    "\n",
    "import keras\n",
    "import keras.backend as K\n",
    "from keras.models import Model\n",
    "from keras.utils import to_categorical\n",
    "from keras.callbacks import ModelCheckpoint\n",
    "from keras.losses import categorical_crossentropy\n",
    "from keras.layers import Input, Dense, Dropout, CuDNNGRU, Embedding\n",
    "\n",
    "import matplotlib.pyplot as plt\n"
   ]
  },
  {
   "cell_type": "code",
   "execution_count": 2,
   "metadata": {},
   "outputs": [],
   "source": [
    "# 引用Session-based Recommendations with Recurrent Neural Networks\n",
    "class SessionDataset:\n",
    "    \"\"\"Credit to yhs-968/pyGRU4REC.\"\"\"    \n",
    "    def __init__(self, data, sep='\\t', session_key='SessionId', item_key='ItemId', time_key='Time', n_samples=-1, itemmap=None, time_sort=False):\n",
    "        \"\"\"\n",
    "        Args:\n",
    "            path: path of the csv file\n",
    "            sep: separator for the csv\n",
    "            session_key, item_key, time_key: name of the fields corresponding to the sessions, items, time\n",
    "            n_samples: the number of samples to use. If -1, use the whole dataset.\n",
    "            itemmap: mapping between item IDs and item indices\n",
    "            time_sort: whether to sort the sessions by time or not\n",
    "        \"\"\"\n",
    "        self.df = data\n",
    "        self.session_key = session_key\n",
    "        self.item_key = item_key\n",
    "        self.time_key = time_key\n",
    "        self.time_sort = time_sort\n",
    "        self.add_item_indices(itemmap=itemmap)\n",
    "        self.df.sort_values([session_key, time_key], inplace=True)\n",
    "\n",
    "        # Sort the df by time, and then by session ID. That is, df is sorted by session ID and\n",
    "        # clicks within a session are next to each other, where the clicks within a session are time-ordered.\n",
    "\n",
    "        self.click_offsets = self.get_click_offsets()\n",
    "        self.session_idx_arr = self.order_session_idx()\n",
    "        \n",
    "    def get_click_offsets(self):\n",
    "        \"\"\"\n",
    "        Return the offsets of the beginning clicks of each session IDs,\n",
    "        where the offset is calculated against the first click of the first session ID.\n",
    "        \"\"\"\n",
    "        offsets = np.zeros(self.df[self.session_key].nunique() + 1, dtype=np.int32)\n",
    "        # group & sort the df by session_key and get the offset values\n",
    "        offsets[1:] = self.df.groupby(self.session_key).size().cumsum()\n",
    "\n",
    "        return offsets\n",
    "\n",
    "    def order_session_idx(self):\n",
    "        \"\"\" Order the session indices \"\"\"\n",
    "        if self.time_sort:\n",
    "            # starting time for each sessions, sorted by session IDs\n",
    "            sessions_start_time = self.df.groupby(self.session_key)[self.time_key].min().values\n",
    "            # order the session indices by session starting times\n",
    "            session_idx_arr = np.argsort(sessions_start_time)\n",
    "        else:\n",
    "            session_idx_arr = np.arange(self.df[self.session_key].nunique())\n",
    "\n",
    "        return session_idx_arr\n",
    "    \n",
    "    def add_item_indices(self, itemmap=None):\n",
    "        \"\"\" \n",
    "        Add item index column named \"item_idx\" to the df\n",
    "        Args:\n",
    "            itemmap (pd.DataFrame): mapping between the item Ids and indices\n",
    "        \"\"\"\n",
    "        if itemmap is None:\n",
    "            item_ids = self.df[self.item_key].unique()  # unique item ids\n",
    "            item2idx = pd.Series(data=np.arange(len(item_ids)),\n",
    "                                 index=item_ids)\n",
    "            itemmap = pd.DataFrame({self.item_key:item_ids,\n",
    "                                   'item_idx':item2idx[item_ids].values})\n",
    "        \n",
    "        self.itemmap = itemmap\n",
    "        self.df = pd.merge(self.df, self.itemmap, on=self.item_key, how='inner')\n",
    "        \n",
    "    @property    \n",
    "    def items(self):\n",
    "        return self.itemmap.ItemId.unique()\n",
    "        \n",
    "\n",
    "class SessionDataLoader:\n",
    "    \"\"\"Credit to yhs-968/pyGRU4REC.\"\"\"    \n",
    "    def __init__(self, dataset, batch_size=50):\n",
    "        \"\"\"\n",
    "        A class for creating session-parallel mini-batches.\n",
    "        Args:\n",
    "            dataset (SessionDataset): the session dataset to generate the batches from\n",
    "            batch_size (int): size of the batch\n",
    "        \"\"\"\n",
    "        self.dataset = dataset\n",
    "        self.batch_size = batch_size\n",
    "        self.done_sessions_counter = 0\n",
    "        \n",
    "    def __iter__(self):\n",
    "        \"\"\" Returns the iterator for producing session-parallel training mini-batches.\n",
    "        Yields:\n",
    "            input (B,):  Item indices that will be encoded as one-hot vectors later.\n",
    "            target (B,): a Variable that stores the target item indices\n",
    "            masks: Numpy array indicating the positions of the sessions to be terminated\n",
    "        \"\"\"\n",
    "\n",
    "        df = self.dataset.df\n",
    "        session_key='SessionId'\n",
    "        item_key='ItemId'\n",
    "        time_key='TimeStamp'\n",
    "        self.n_items = df[item_key].nunique()+1\n",
    "        click_offsets = self.dataset.click_offsets\n",
    "        session_idx_arr = self.dataset.session_idx_arr\n",
    "\n",
    "        iters = np.arange(self.batch_size)\n",
    "        maxiter = iters.max()\n",
    "        start = click_offsets[session_idx_arr[iters]]\n",
    "        end = click_offsets[session_idx_arr[iters] + 1]\n",
    "        mask = [] # indicator for the sessions to be terminated\n",
    "        finished = False        \n",
    "\n",
    "        while not finished:\n",
    "            minlen = (end - start).min()\n",
    "            # Item indices (for embedding) for clicks where the first sessions start\n",
    "            idx_target = df.item_idx.values[start]\n",
    "            for i in range(minlen - 1):\n",
    "                # Build inputs & targets\n",
    "                idx_input = idx_target\n",
    "                idx_target = df.item_idx.values[start + i + 1]\n",
    "                inp = idx_input\n",
    "                target = idx_target\n",
    "                yield inp, target, mask\n",
    "                \n",
    "            # click indices where a particular session meets second-to-last element\n",
    "            start = start + (minlen - 1)\n",
    "            # see if how many sessions should terminate\n",
    "            mask = np.arange(len(iters))[(end - start) <= 1]\n",
    "            self.done_sessions_counter = len(mask)\n",
    "            for idx in mask:\n",
    "                maxiter += 1\n",
    "                if maxiter >= len(click_offsets) - 1:\n",
    "                    finished = True\n",
    "                    break\n",
    "                # update the next starting/ending point\n",
    "                iters[idx] = maxiter\n",
    "                start[idx] = click_offsets[session_idx_arr[maxiter]]\n",
    "                end[idx] = click_offsets[session_idx_arr[maxiter] + 1]\n",
    "\n",
    "\n",
    "def create_model(args):   \n",
    "    emb_size = 200\n",
    "    hidden_units = 200\n",
    "    size = emb_size\n",
    "\n",
    "    inputs = Input(batch_shape=(args.batch_size, 1, args.train_n_items))\n",
    "    gru, gru_states = CuDNNGRU(hidden_units, stateful=True, return_state=True)(inputs)\n",
    "    drop2 = Dropout(0.25)(gru)\n",
    "    predictions = Dense(args.train_n_items, activation='softmax')(drop2)\n",
    "    model = Model(inputs=inputs, outputs=[predictions])\n",
    "    opt = keras.optimizers.Adam(lr=0.001, beta_1=0.9, beta_2=0.999, epsilon=None, decay=0.0, amsgrad=False)\n",
    "    model.compile(loss=categorical_crossentropy, optimizer=opt)\n",
    "    model.summary()\n",
    "\n",
    "    filepath='model_checkpoint.h5'\n",
    "    checkpoint = ModelCheckpoint(filepath, monitor='loss', verbose=2, save_best_only=True, mode='min')\n",
    "    callbacks_list = []\n",
    "    return model\n",
    "\n",
    "\n",
    "def get_states(model):\n",
    "    return [K.get_value(s) for s,_ in model.state_updates]\n",
    "\n",
    "\n",
    "def get_metrics(model, args, train_generator_map, recall_k=10, mrr_k=10):\n",
    "\n",
    "    test_dataset = SessionDataset(args.test_data, itemmap=train_generator_map)\n",
    "    test_generator = SessionDataLoader(test_dataset, batch_size=args.batch_size)\n",
    "\n",
    "    n = 0\n",
    "    rec_sum = 0\n",
    "    mrr_sum = 0\n",
    "\n",
    "    with tqdm(total=args.test_samples_qty) as pbar:\n",
    "        for feat, label, mask in test_generator:\n",
    "\n",
    "            target_oh = to_categorical(label, num_classes=args.train_n_items)\n",
    "            input_oh  = to_categorical(feat,  num_classes=args.train_n_items) \n",
    "            input_oh = np.expand_dims(input_oh, axis=1)\n",
    "            \n",
    "            pred = model.predict(input_oh, batch_size=args.batch_size)\n",
    "\n",
    "            for row_idx in range(feat.shape[0]):\n",
    "                pred_row = pred[row_idx] \n",
    "                label_row = target_oh[row_idx]\n",
    "\n",
    "                rec_idx =  pred_row.argsort()[-recall_k:][::-1]\n",
    "                mrr_idx =  pred_row.argsort()[-mrr_k:][::-1]\n",
    "                tru_idx = label_row.argsort()[-1:][::-1]\n",
    "\n",
    "                n += 1\n",
    "\n",
    "                if tru_idx[0] in rec_idx:\n",
    "                    rec_sum += 1\n",
    "\n",
    "                if tru_idx[0] in mrr_idx:\n",
    "                    mrr_sum += 1/int((np.where(mrr_idx == tru_idx[0])[0]+1))\n",
    "            \n",
    "            pbar.set_description(\"Evaluating model\")\n",
    "            pbar.update(test_generator.done_sessions_counter)\n",
    "\n",
    "    recall = rec_sum/n\n",
    "    mrr = mrr_sum/n\n",
    "    return (recall, recall_k), (mrr, mrr_k)\n",
    "\n",
    "\n",
    "def train_model(model, args, save_weights = False):\n",
    "    train_dataset = SessionDataset(args.train_data)\n",
    "    model_to_train = model\n",
    "    batch_size = args.batch_size\n",
    "    \n",
    "    num_round = 30\n",
    "    x = [i for i in range(0,num_round)]\n",
    "    y_recall = []\n",
    "    y_mrr = []\n",
    "    \n",
    "    for epoch in range(0, num_round):\n",
    "        with tqdm(total=args.train_samples_qty) as pbar:\n",
    "            loader = SessionDataLoader(train_dataset, batch_size=batch_size)\n",
    "            for feat, target, mask in loader:\n",
    "                \n",
    "                real_mask = np.ones((batch_size, 1))\n",
    "                for elt in mask:\n",
    "                    real_mask[elt, :] = 0\n",
    "\n",
    "                hidden_states = get_states(model_to_train)[0]\n",
    "                hidden_states = np.multiply(real_mask, hidden_states)\n",
    "                hidden_states = np.array(hidden_states, dtype=np.float32)\n",
    "                model_to_train.layers[1].reset_states(hidden_states)\n",
    "\n",
    "                input_oh = to_categorical(feat, num_classes=loader.n_items) \n",
    "                input_oh = np.expand_dims(input_oh, axis=1)\n",
    "\n",
    "                target_oh = to_categorical(target, num_classes=loader.n_items)\n",
    "\n",
    "                tr_loss = model_to_train.train_on_batch(input_oh, target_oh)\n",
    "\n",
    "                pbar.set_description(\"Epoch {0}. Loss: {1:.5f}\".format(epoch, tr_loss))\n",
    "                pbar.update(loader.done_sessions_counter)\n",
    "            \n",
    "        \n",
    "        if save_weights:\n",
    "            print(\"Saving weights...\")\n",
    "            model_to_train.save('GRU4REC_{}.h5'.format(epoch))\n",
    "        \n",
    "        \n",
    "        \n",
    "        (rec, rec_k), (mrr, mrr_k) = get_metrics(model_to_train, args, train_dataset.itemmap)\n",
    "        y_recall.append(rec)\n",
    "        y_mrr.append(mrr)\n",
    "\n",
    "        print(\"\\t - Recall@{} epoch {}: {:5f}\".format(rec_k, epoch, rec))\n",
    "        print(\"\\t - MRR@{}    epoch {}: {:5f}\".format(mrr_k, epoch, mrr))\n",
    "        print(\"\\n\")\n",
    "        \n",
    "    plt.figure(figsize=(8,4))\n",
    "    plt.plot(x,y_recall,label=\"recall@{}\".format(rec_k))\n",
    "    plt.plot(x,y_mrr,label=\"mrr@{}\".format(mrr_k))\n",
    "    plt.xlabel(\"epoch\")\n",
    "    plt.show()\n",
    "        \n",
    "        \n"
   ]
  },
  {
   "cell_type": "code",
   "execution_count": 3,
   "metadata": {},
   "outputs": [
    {
     "name": "stdout",
     "output_type": "stream",
     "text": [
      "訓練影片數目: 11619\n",
      "訓練使用者數目: 19854\n",
      "測試使用者數目: 5272\n",
      "WARNING:tensorflow:From /usr/local/lib/python3.5/dist-packages/tensorflow/python/framework/op_def_library.py:263: colocate_with (from tensorflow.python.framework.ops) is deprecated and will be removed in a future version.\n",
      "Instructions for updating:\n",
      "Colocations handled automatically by placer.\n",
      "WARNING:tensorflow:From /usr/local/lib/python3.5/dist-packages/keras/backend/tensorflow_backend.py:3445: calling dropout (from tensorflow.python.ops.nn_ops) with keep_prob is deprecated and will be removed in a future version.\n",
      "Instructions for updating:\n",
      "Please use `rate` instead of `keep_prob`. Rate should be set to `rate = 1 - keep_prob`.\n",
      "_________________________________________________________________\n",
      "Layer (type)                 Output Shape              Param #   \n",
      "=================================================================\n",
      "input_1 (InputLayer)         (512, 1, 11619)           0         \n",
      "_________________________________________________________________\n",
      "cu_dnngru_1 (CuDNNGRU)       [(512, 200), (512, 200)]  7092600   \n",
      "_________________________________________________________________\n",
      "dropout_1 (Dropout)          (512, 200)                0         \n",
      "_________________________________________________________________\n",
      "dense_1 (Dense)              (512, 11619)              2335419   \n",
      "=================================================================\n",
      "Total params: 9,428,019\n",
      "Trainable params: 9,428,019\n",
      "Non-trainable params: 0\n",
      "_________________________________________________________________\n"
     ]
    },
    {
     "name": "stderr",
     "output_type": "stream",
     "text": [
      "\r",
      "  0%|          | 0/19854 [00:00<?, ?it/s]"
     ]
    },
    {
     "name": "stdout",
     "output_type": "stream",
     "text": [
      "WARNING:tensorflow:From /usr/local/lib/python3.5/dist-packages/tensorflow/python/ops/math_ops.py:3066: to_int32 (from tensorflow.python.ops.math_ops) is deprecated and will be removed in a future version.\n",
      "Instructions for updating:\n",
      "Use tf.cast instead.\n"
     ]
    },
    {
     "name": "stderr",
     "output_type": "stream",
     "text": [
      "Epoch 0. Loss: 4.91900:  98%|█████████▊| 19415/19854 [05:26<00:07, 59.39it/s] \n"
     ]
    },
    {
     "name": "stdout",
     "output_type": "stream",
     "text": [
      "Saving weights...\n"
     ]
    },
    {
     "name": "stderr",
     "output_type": "stream",
     "text": [
      "Evaluating model:  82%|████████▏ | 4327/5272 [04:10<00:54, 17.27it/s]\n",
      "  0%|          | 0/19854 [00:00<?, ?it/s]"
     ]
    },
    {
     "name": "stdout",
     "output_type": "stream",
     "text": [
      "\t - Recall@10 epoch 0: 0.037950\n",
      "\t - MRR@10    epoch 0: 0.012743\n",
      "\n",
      "\n"
     ]
    },
    {
     "name": "stderr",
     "output_type": "stream",
     "text": [
      "Epoch 1. Loss: 3.82646:  98%|█████████▊| 19415/19854 [03:33<00:04, 91.09it/s] \n"
     ]
    },
    {
     "name": "stdout",
     "output_type": "stream",
     "text": [
      "Saving weights...\n"
     ]
    },
    {
     "name": "stderr",
     "output_type": "stream",
     "text": [
      "Evaluating model:  82%|████████▏ | 4327/5272 [04:15<00:55, 16.94it/s]\n",
      "Epoch 2. Loss: 8.27540:   0%|          | 0/19854 [00:00<?, ?it/s]"
     ]
    },
    {
     "name": "stdout",
     "output_type": "stream",
     "text": [
      "\t - Recall@10 epoch 1: 0.040535\n",
      "\t - MRR@10    epoch 1: 0.012510\n",
      "\n",
      "\n"
     ]
    },
    {
     "name": "stderr",
     "output_type": "stream",
     "text": [
      "Epoch 2. Loss: 3.19945:  98%|█████████▊| 19415/19854 [04:10<00:05, 77.46it/s] \n"
     ]
    },
    {
     "name": "stdout",
     "output_type": "stream",
     "text": [
      "Saving weights...\n"
     ]
    },
    {
     "name": "stderr",
     "output_type": "stream",
     "text": [
      "Evaluating model:  82%|████████▏ | 4327/5272 [04:30<00:59, 16.01it/s]\n",
      "Epoch 3. Loss: 7.46503:   0%|          | 0/19854 [00:00<?, ?it/s]"
     ]
    },
    {
     "name": "stdout",
     "output_type": "stream",
     "text": [
      "\t - Recall@10 epoch 2: 0.049479\n",
      "\t - MRR@10    epoch 2: 0.016745\n",
      "\n",
      "\n"
     ]
    },
    {
     "name": "stderr",
     "output_type": "stream",
     "text": [
      "Epoch 3. Loss: 3.00345:  98%|█████████▊| 19415/19854 [04:09<00:05, 77.66it/s] \n"
     ]
    },
    {
     "name": "stdout",
     "output_type": "stream",
     "text": [
      "Saving weights...\n"
     ]
    },
    {
     "name": "stderr",
     "output_type": "stream",
     "text": [
      "Evaluating model:  82%|████████▏ | 4327/5272 [04:18<00:56, 16.74it/s]\n",
      "  0%|          | 0/19854 [00:00<?, ?it/s]"
     ]
    },
    {
     "name": "stdout",
     "output_type": "stream",
     "text": [
      "\t - Recall@10 epoch 3: 0.053019\n",
      "\t - MRR@10    epoch 3: 0.018525\n",
      "\n",
      "\n"
     ]
    },
    {
     "name": "stderr",
     "output_type": "stream",
     "text": [
      "Epoch 4. Loss: 2.90334:  98%|█████████▊| 19415/19854 [04:26<00:06, 72.82it/s] \n"
     ]
    },
    {
     "name": "stdout",
     "output_type": "stream",
     "text": [
      "Saving weights...\n"
     ]
    },
    {
     "name": "stderr",
     "output_type": "stream",
     "text": [
      "Evaluating model:  82%|████████▏ | 4327/5272 [04:25<00:57, 16.32it/s]\n",
      "  0%|          | 0/19854 [00:00<?, ?it/s]"
     ]
    },
    {
     "name": "stdout",
     "output_type": "stream",
     "text": [
      "\t - Recall@10 epoch 4: 0.053613\n",
      "\t - MRR@10    epoch 4: 0.018655\n",
      "\n",
      "\n"
     ]
    },
    {
     "name": "stderr",
     "output_type": "stream",
     "text": [
      "Epoch 5. Loss: 2.88961:  98%|█████████▊| 19415/19854 [04:35<00:06, 70.53it/s] \n"
     ]
    },
    {
     "name": "stdout",
     "output_type": "stream",
     "text": [
      "Saving weights...\n"
     ]
    },
    {
     "name": "stderr",
     "output_type": "stream",
     "text": [
      "Evaluating model:  82%|████████▏ | 4327/5272 [04:19<00:56, 16.67it/s]\n",
      "Epoch 6. Loss: 7.92629:   0%|          | 0/19854 [00:00<?, ?it/s]"
     ]
    },
    {
     "name": "stdout",
     "output_type": "stream",
     "text": [
      "\t - Recall@10 epoch 5: 0.052798\n",
      "\t - MRR@10    epoch 5: 0.018726\n",
      "\n",
      "\n"
     ]
    },
    {
     "name": "stderr",
     "output_type": "stream",
     "text": [
      "Epoch 6. Loss: 2.94352:  98%|█████████▊| 19415/19854 [04:35<00:06, 70.57it/s] \n"
     ]
    },
    {
     "name": "stdout",
     "output_type": "stream",
     "text": [
      "Saving weights...\n"
     ]
    },
    {
     "name": "stderr",
     "output_type": "stream",
     "text": [
      "Evaluating model:  82%|████████▏ | 4327/5272 [04:25<00:58, 16.28it/s]\n",
      "  0%|          | 0/19854 [00:00<?, ?it/s]"
     ]
    },
    {
     "name": "stdout",
     "output_type": "stream",
     "text": [
      "\t - Recall@10 epoch 6: 0.053468\n",
      "\t - MRR@10    epoch 6: 0.018816\n",
      "\n",
      "\n"
     ]
    },
    {
     "name": "stderr",
     "output_type": "stream",
     "text": [
      "Epoch 7. Loss: 2.93048:  98%|█████████▊| 19415/19854 [04:46<00:06, 67.80it/s] \n"
     ]
    },
    {
     "name": "stdout",
     "output_type": "stream",
     "text": [
      "Saving weights...\n"
     ]
    },
    {
     "name": "stderr",
     "output_type": "stream",
     "text": [
      "Evaluating model:  82%|████████▏ | 4327/5272 [04:26<00:58, 16.22it/s]\n",
      "Epoch 8. Loss: 7.96398:   0%|          | 0/19854 [00:00<?, ?it/s]"
     ]
    },
    {
     "name": "stdout",
     "output_type": "stream",
     "text": [
      "\t - Recall@10 epoch 7: 0.052956\n",
      "\t - MRR@10    epoch 7: 0.018946\n",
      "\n",
      "\n"
     ]
    },
    {
     "name": "stderr",
     "output_type": "stream",
     "text": [
      "Epoch 8. Loss: 2.90219:  98%|█████████▊| 19415/19854 [03:29<00:04, 92.88it/s] \n"
     ]
    },
    {
     "name": "stdout",
     "output_type": "stream",
     "text": [
      "Saving weights...\n"
     ]
    },
    {
     "name": "stderr",
     "output_type": "stream",
     "text": [
      "Evaluating model:  82%|████████▏ | 4327/5272 [03:55<00:51, 18.37it/s]\n",
      "Epoch 9. Loss: 6.89241:   0%|          | 0/19854 [00:00<?, ?it/s]"
     ]
    },
    {
     "name": "stdout",
     "output_type": "stream",
     "text": [
      "\t - Recall@10 epoch 8: 0.053145\n",
      "\t - MRR@10    epoch 8: 0.018868\n",
      "\n",
      "\n"
     ]
    },
    {
     "name": "stderr",
     "output_type": "stream",
     "text": [
      "Epoch 9. Loss: 2.81984:  98%|█████████▊| 19415/19854 [02:57<00:04, 109.20it/s]\n"
     ]
    },
    {
     "name": "stdout",
     "output_type": "stream",
     "text": [
      "Saving weights...\n"
     ]
    },
    {
     "name": "stderr",
     "output_type": "stream",
     "text": [
      "Evaluating model:  82%|████████▏ | 4327/5272 [03:59<00:52, 18.03it/s]\n",
      "Epoch 10. Loss: 6.83011:   0%|          | 0/19854 [00:00<?, ?it/s]"
     ]
    },
    {
     "name": "stdout",
     "output_type": "stream",
     "text": [
      "\t - Recall@10 epoch 9: 0.053556\n",
      "\t - MRR@10    epoch 9: 0.018838\n",
      "\n",
      "\n"
     ]
    },
    {
     "name": "stderr",
     "output_type": "stream",
     "text": [
      "Epoch 10. Loss: 2.86286:  98%|█████████▊| 19415/19854 [02:59<00:04, 108.33it/s]\n"
     ]
    },
    {
     "name": "stdout",
     "output_type": "stream",
     "text": [
      "Saving weights...\n"
     ]
    },
    {
     "name": "stderr",
     "output_type": "stream",
     "text": [
      "Evaluating model:  82%|████████▏ | 4327/5272 [03:58<00:52, 18.17it/s]\n",
      "Epoch 11. Loss: 6.93180:   0%|          | 0/19854 [00:00<?, ?it/s]"
     ]
    },
    {
     "name": "stdout",
     "output_type": "stream",
     "text": [
      "\t - Recall@10 epoch 10: 0.053569\n",
      "\t - MRR@10    epoch 10: 0.018839\n",
      "\n",
      "\n"
     ]
    },
    {
     "name": "stderr",
     "output_type": "stream",
     "text": [
      "Epoch 11. Loss: 2.80506:  98%|█████████▊| 19415/19854 [02:51<00:03, 113.00it/s]\n"
     ]
    },
    {
     "name": "stdout",
     "output_type": "stream",
     "text": [
      "Saving weights...\n"
     ]
    },
    {
     "name": "stderr",
     "output_type": "stream",
     "text": [
      "Evaluating model:  82%|████████▏ | 4327/5272 [04:03<00:53, 17.80it/s]\n",
      "Epoch 12. Loss: 6.84125:   0%|          | 0/19854 [00:00<?, ?it/s]"
     ]
    },
    {
     "name": "stdout",
     "output_type": "stream",
     "text": [
      "\t - Recall@10 epoch 11: 0.052513\n",
      "\t - MRR@10    epoch 11: 0.018591\n",
      "\n",
      "\n"
     ]
    },
    {
     "name": "stderr",
     "output_type": "stream",
     "text": [
      "Epoch 12. Loss: 2.77654:  98%|█████████▊| 19415/19854 [03:04<00:04, 105.40it/s]\n"
     ]
    },
    {
     "name": "stdout",
     "output_type": "stream",
     "text": [
      "Saving weights...\n"
     ]
    },
    {
     "name": "stderr",
     "output_type": "stream",
     "text": [
      "Evaluating model:  82%|████████▏ | 4327/5272 [04:03<00:53, 17.76it/s]\n",
      "Epoch 13. Loss: 7.83357:   0%|          | 0/19854 [00:00<?, ?it/s]"
     ]
    },
    {
     "name": "stdout",
     "output_type": "stream",
     "text": [
      "\t - Recall@10 epoch 12: 0.052380\n",
      "\t - MRR@10    epoch 12: 0.018513\n",
      "\n",
      "\n"
     ]
    },
    {
     "name": "stderr",
     "output_type": "stream",
     "text": [
      "Epoch 13. Loss: 2.77820:  98%|█████████▊| 19415/19854 [03:20<00:04, 96.82it/s] \n"
     ]
    },
    {
     "name": "stdout",
     "output_type": "stream",
     "text": [
      "Saving weights...\n"
     ]
    },
    {
     "name": "stderr",
     "output_type": "stream",
     "text": [
      "Evaluating model:  82%|████████▏ | 4327/5272 [04:05<00:53, 17.63it/s]\n",
      "Epoch 14. Loss: 6.76758:   0%|          | 0/19854 [00:00<?, ?it/s]"
     ]
    },
    {
     "name": "stdout",
     "output_type": "stream",
     "text": [
      "\t - Recall@10 epoch 13: 0.052722\n",
      "\t - MRR@10    epoch 13: 0.018381\n",
      "\n",
      "\n"
     ]
    },
    {
     "name": "stderr",
     "output_type": "stream",
     "text": [
      "Epoch 14. Loss: 2.74506:  98%|█████████▊| 19415/19854 [04:15<00:05, 76.07it/s] \n"
     ]
    },
    {
     "name": "stdout",
     "output_type": "stream",
     "text": [
      "Saving weights...\n"
     ]
    },
    {
     "name": "stderr",
     "output_type": "stream",
     "text": [
      "Evaluating model:  82%|████████▏ | 4327/5272 [04:20<00:56, 16.59it/s]\n",
      "Epoch 15. Loss: 6.85296:   0%|          | 0/19854 [00:00<?, ?it/s]"
     ]
    },
    {
     "name": "stdout",
     "output_type": "stream",
     "text": [
      "\t - Recall@10 epoch 14: 0.052880\n",
      "\t - MRR@10    epoch 14: 0.018718\n",
      "\n",
      "\n"
     ]
    },
    {
     "name": "stderr",
     "output_type": "stream",
     "text": [
      "Epoch 15. Loss: 2.74412:  98%|█████████▊| 19415/19854 [03:37<00:04, 89.28it/s] \n"
     ]
    },
    {
     "name": "stdout",
     "output_type": "stream",
     "text": [
      "Saving weights...\n"
     ]
    },
    {
     "name": "stderr",
     "output_type": "stream",
     "text": [
      "Evaluating model:  82%|████████▏ | 4327/5272 [04:33<00:59, 15.84it/s]\n",
      "Epoch 16. Loss: 6.74184:   0%|          | 0/19854 [00:00<?, ?it/s]"
     ]
    },
    {
     "name": "stdout",
     "output_type": "stream",
     "text": [
      "\t - Recall@10 epoch 15: 0.052905\n",
      "\t - MRR@10    epoch 15: 0.018585\n",
      "\n",
      "\n"
     ]
    },
    {
     "name": "stderr",
     "output_type": "stream",
     "text": [
      "Epoch 16. Loss: 2.71527:  98%|█████████▊| 19415/19854 [04:29<00:06, 72.09it/s] \n"
     ]
    },
    {
     "name": "stdout",
     "output_type": "stream",
     "text": [
      "Saving weights...\n"
     ]
    },
    {
     "name": "stderr",
     "output_type": "stream",
     "text": [
      "Evaluating model:  82%|████████▏ | 4327/5272 [04:01<00:52, 17.89it/s]\n",
      "Epoch 17. Loss: 7.71122:   0%|          | 0/19854 [00:00<?, ?it/s]"
     ]
    },
    {
     "name": "stdout",
     "output_type": "stream",
     "text": [
      "\t - Recall@10 epoch 16: 0.052583\n",
      "\t - MRR@10    epoch 16: 0.018574\n",
      "\n",
      "\n"
     ]
    },
    {
     "name": "stderr",
     "output_type": "stream",
     "text": [
      "Epoch 17. Loss: 2.68618:  98%|█████████▊| 19415/19854 [03:00<00:04, 107.46it/s]\n"
     ]
    },
    {
     "name": "stdout",
     "output_type": "stream",
     "text": [
      "Saving weights...\n"
     ]
    },
    {
     "name": "stderr",
     "output_type": "stream",
     "text": [
      "Evaluating model:  82%|████████▏ | 4327/5272 [04:04<00:53, 17.68it/s]\n",
      "Epoch 18. Loss: 6.74158:   0%|          | 0/19854 [00:00<?, ?it/s]"
     ]
    },
    {
     "name": "stdout",
     "output_type": "stream",
     "text": [
      "\t - Recall@10 epoch 17: 0.052456\n",
      "\t - MRR@10    epoch 17: 0.018590\n",
      "\n",
      "\n"
     ]
    },
    {
     "name": "stderr",
     "output_type": "stream",
     "text": [
      "Epoch 18. Loss: 2.68124:  98%|█████████▊| 19415/19854 [03:15<00:04, 99.28it/s] \n"
     ]
    },
    {
     "name": "stdout",
     "output_type": "stream",
     "text": [
      "Saving weights...\n"
     ]
    },
    {
     "name": "stderr",
     "output_type": "stream",
     "text": [
      "Evaluating model:  82%|████████▏ | 4327/5272 [04:09<00:54, 17.32it/s]\n",
      "Epoch 19. Loss: 7.18022:   0%|          | 0/19854 [00:00<?, ?it/s]"
     ]
    },
    {
     "name": "stdout",
     "output_type": "stream",
     "text": [
      "\t - Recall@10 epoch 18: 0.052254\n",
      "\t - MRR@10    epoch 18: 0.018450\n",
      "\n",
      "\n"
     ]
    },
    {
     "name": "stderr",
     "output_type": "stream",
     "text": [
      "Epoch 19. Loss: 2.63200:  98%|█████████▊| 19415/19854 [03:45<00:05, 86.06it/s] \n"
     ]
    },
    {
     "name": "stdout",
     "output_type": "stream",
     "text": [
      "Saving weights...\n"
     ]
    },
    {
     "name": "stderr",
     "output_type": "stream",
     "text": [
      "Evaluating model:  82%|████████▏ | 4327/5272 [04:18<00:56, 16.74it/s]\n",
      "Epoch 20. Loss: 7.15279:   0%|          | 0/19854 [00:00<?, ?it/s]"
     ]
    },
    {
     "name": "stdout",
     "output_type": "stream",
     "text": [
      "\t - Recall@10 epoch 19: 0.052475\n",
      "\t - MRR@10    epoch 19: 0.018648\n",
      "\n",
      "\n"
     ]
    },
    {
     "name": "stderr",
     "output_type": "stream",
     "text": [
      "Epoch 20. Loss: 2.67860:  98%|█████████▊| 19415/19854 [04:28<00:06, 72.42it/s] \n"
     ]
    },
    {
     "name": "stdout",
     "output_type": "stream",
     "text": [
      "Saving weights...\n"
     ]
    },
    {
     "name": "stderr",
     "output_type": "stream",
     "text": [
      "Evaluating model:  82%|████████▏ | 4327/5272 [04:26<00:58, 16.23it/s]\n",
      "Epoch 21. Loss: 6.76960:   0%|          | 0/19854 [00:00<?, ?it/s]"
     ]
    },
    {
     "name": "stdout",
     "output_type": "stream",
     "text": [
      "\t - Recall@10 epoch 20: 0.051723\n",
      "\t - MRR@10    epoch 20: 0.018448\n",
      "\n",
      "\n"
     ]
    },
    {
     "name": "stderr",
     "output_type": "stream",
     "text": [
      "Epoch 21. Loss: 2.61135:  98%|█████████▊| 19415/19854 [03:06<00:04, 104.07it/s]\n"
     ]
    },
    {
     "name": "stdout",
     "output_type": "stream",
     "text": [
      "Saving weights...\n"
     ]
    },
    {
     "name": "stderr",
     "output_type": "stream",
     "text": [
      "Evaluating model:  82%|████████▏ | 4327/5272 [04:04<00:53, 17.70it/s]\n",
      "Epoch 22. Loss: 6.39171:   0%|          | 0/19854 [00:00<?, ?it/s]"
     ]
    },
    {
     "name": "stdout",
     "output_type": "stream",
     "text": [
      "\t - Recall@10 epoch 21: 0.051919\n",
      "\t - MRR@10    epoch 21: 0.018637\n",
      "\n",
      "\n"
     ]
    },
    {
     "name": "stderr",
     "output_type": "stream",
     "text": [
      "Epoch 22. Loss: 2.67307:  98%|█████████▊| 19415/19854 [03:11<00:04, 101.15it/s]\n"
     ]
    },
    {
     "name": "stdout",
     "output_type": "stream",
     "text": [
      "Saving weights...\n"
     ]
    },
    {
     "name": "stderr",
     "output_type": "stream",
     "text": [
      "Evaluating model:  82%|████████▏ | 4327/5272 [04:05<00:53, 17.63it/s]\n",
      "Epoch 23. Loss: 6.41387:   0%|          | 0/19854 [00:00<?, ?it/s]"
     ]
    },
    {
     "name": "stdout",
     "output_type": "stream",
     "text": [
      "\t - Recall@10 epoch 22: 0.051641\n",
      "\t - MRR@10    epoch 22: 0.018497\n",
      "\n",
      "\n"
     ]
    },
    {
     "name": "stderr",
     "output_type": "stream",
     "text": [
      "Epoch 23. Loss: 2.74156:  98%|█████████▊| 19415/19854 [03:41<00:05, 87.52it/s] \n"
     ]
    },
    {
     "name": "stdout",
     "output_type": "stream",
     "text": [
      "Saving weights...\n"
     ]
    },
    {
     "name": "stderr",
     "output_type": "stream",
     "text": [
      "Evaluating model:  82%|████████▏ | 4327/5272 [04:13<00:55, 17.04it/s]\n",
      "  0%|          | 0/19854 [00:00<?, ?it/s]"
     ]
    },
    {
     "name": "stdout",
     "output_type": "stream",
     "text": [
      "\t - Recall@10 epoch 23: 0.052153\n",
      "\t - MRR@10    epoch 23: 0.018459\n",
      "\n",
      "\n"
     ]
    },
    {
     "name": "stderr",
     "output_type": "stream",
     "text": [
      "Epoch 24. Loss: 2.69871:  98%|█████████▊| 19415/19854 [03:54<00:05, 82.84it/s] \n"
     ]
    },
    {
     "name": "stdout",
     "output_type": "stream",
     "text": [
      "Saving weights...\n"
     ]
    },
    {
     "name": "stderr",
     "output_type": "stream",
     "text": [
      "Evaluating model:  82%|████████▏ | 4327/5272 [04:20<00:56, 16.58it/s]\n",
      "Epoch 25. Loss: 7.61282:   0%|          | 0/19854 [00:00<?, ?it/s]"
     ]
    },
    {
     "name": "stdout",
     "output_type": "stream",
     "text": [
      "\t - Recall@10 epoch 24: 0.052203\n",
      "\t - MRR@10    epoch 24: 0.018460\n",
      "\n",
      "\n"
     ]
    },
    {
     "name": "stderr",
     "output_type": "stream",
     "text": [
      "Epoch 25. Loss: 2.71918:  98%|█████████▊| 19415/19854 [04:42<00:06, 68.72it/s] \n"
     ]
    },
    {
     "name": "stdout",
     "output_type": "stream",
     "text": [
      "Saving weights...\n"
     ]
    },
    {
     "name": "stderr",
     "output_type": "stream",
     "text": [
      "Evaluating model:  82%|████████▏ | 4327/5272 [04:27<00:58, 16.16it/s]\n",
      "Epoch 26. Loss: 6.34935:   0%|          | 0/19854 [00:00<?, ?it/s]"
     ]
    },
    {
     "name": "stdout",
     "output_type": "stream",
     "text": [
      "\t - Recall@10 epoch 25: 0.052317\n",
      "\t - MRR@10    epoch 25: 0.018551\n",
      "\n",
      "\n"
     ]
    },
    {
     "name": "stderr",
     "output_type": "stream",
     "text": [
      "Epoch 26. Loss: 2.65164:  98%|█████████▊| 19415/19854 [04:51<00:06, 66.71it/s] \n"
     ]
    },
    {
     "name": "stdout",
     "output_type": "stream",
     "text": [
      "Saving weights...\n"
     ]
    },
    {
     "name": "stderr",
     "output_type": "stream",
     "text": [
      "Evaluating model:  82%|████████▏ | 4327/5272 [04:36<01:00, 15.66it/s]\n",
      "Epoch 27. Loss: 6.33083:   0%|          | 0/19854 [00:00<?, ?it/s]"
     ]
    },
    {
     "name": "stdout",
     "output_type": "stream",
     "text": [
      "\t - Recall@10 epoch 26: 0.052772\n",
      "\t - MRR@10    epoch 26: 0.018503\n",
      "\n",
      "\n"
     ]
    },
    {
     "name": "stderr",
     "output_type": "stream",
     "text": [
      "Epoch 27. Loss: 2.63962:  98%|█████████▊| 19415/19854 [04:53<00:06, 66.05it/s] \n"
     ]
    },
    {
     "name": "stdout",
     "output_type": "stream",
     "text": [
      "Saving weights...\n"
     ]
    },
    {
     "name": "stderr",
     "output_type": "stream",
     "text": [
      "Evaluating model:  82%|████████▏ | 4327/5272 [04:36<01:00, 15.65it/s]\n",
      "Epoch 28. Loss: 7.09397:   0%|          | 0/19854 [00:00<?, ?it/s]"
     ]
    },
    {
     "name": "stdout",
     "output_type": "stream",
     "text": [
      "\t - Recall@10 epoch 27: 0.052418\n",
      "\t - MRR@10    epoch 27: 0.018501\n",
      "\n",
      "\n"
     ]
    },
    {
     "name": "stderr",
     "output_type": "stream",
     "text": [
      "Epoch 28. Loss: 2.66276:  98%|█████████▊| 19415/19854 [04:40<00:06, 69.25it/s] \n"
     ]
    },
    {
     "name": "stdout",
     "output_type": "stream",
     "text": [
      "Saving weights...\n"
     ]
    },
    {
     "name": "stderr",
     "output_type": "stream",
     "text": [
      "Evaluating model:  82%|████████▏ | 4327/5272 [04:26<00:58, 16.23it/s]\n",
      "Epoch 29. Loss: 7.49156:   0%|          | 0/19854 [00:00<?, ?it/s]"
     ]
    },
    {
     "name": "stdout",
     "output_type": "stream",
     "text": [
      "\t - Recall@10 epoch 28: 0.052519\n",
      "\t - MRR@10    epoch 28: 0.018821\n",
      "\n",
      "\n"
     ]
    },
    {
     "name": "stderr",
     "output_type": "stream",
     "text": [
      "Epoch 29. Loss: 2.64160:  98%|█████████▊| 19415/19854 [04:17<00:05, 75.50it/s] \n"
     ]
    },
    {
     "name": "stdout",
     "output_type": "stream",
     "text": [
      "Saving weights...\n"
     ]
    },
    {
     "name": "stderr",
     "output_type": "stream",
     "text": [
      "Evaluating model:  82%|████████▏ | 4327/5272 [04:02<00:53, 17.83it/s]"
     ]
    },
    {
     "name": "stdout",
     "output_type": "stream",
     "text": [
      "\t - Recall@10 epoch 29: 0.052361\n",
      "\t - MRR@10    epoch 29: 0.018490\n",
      "\n",
      "\n"
     ]
    },
    {
     "name": "stderr",
     "output_type": "stream",
     "text": [
      "\n"
     ]
    },
    {
     "data": {
      "image/png": "[encoded data removed]",
      "text/plain": [
       "<Figure size 576x288 with 1 Axes>"
      ]
     },
     "metadata": {
      "needs_background": "light"
     },
     "output_type": "display_data"
    }
   ],
   "source": [
    "# 建立DataSet物件\n",
    "class DataSet():\n",
    "    def __init__(self):\n",
    "        pass\n",
    "\n",
    "dataSet = DataSet()\n",
    "\n",
    "# 寫入物件所需參數 \n",
    "# batch_size\n",
    "dataSet.batch_size = 512\n",
    "# 處理過的訓練資料\n",
    "dataSet.train_data = pd.read_csv(\"data/augmented_train_dwelltime.csv\", sep='\\t', dtype={'ItemId': np.int64})\n",
    "# 開發資料\n",
    "dataSet.dev_data   = pd.read_csv(\"data/dev.csv\",   sep='\\t', dtype={'ItemId': np.int64})\n",
    "# 測試資料\n",
    "dataSet.test_data  = pd.read_csv(\"data/test.csv\",  sep='\\t', dtype={'ItemId': np.int64})\n",
    "# 影片數目\n",
    "dataSet.train_n_items = len(dataSet.train_data['ItemId'].unique()) + 1\n",
    "print(\"訓練影片數目:\", dataSet.train_n_items)\n",
    "# 使用者數目\n",
    "dataSet.train_samples_qty = len(dataSet.train_data['SessionId'].unique()) + 1\n",
    "print(\"訓練使用者數目:\", dataSet.train_samples_qty)\n",
    "dataSet.test_samples_qty = len(dataSet.test_data['SessionId'].unique()) + 1\n",
    "print(\"測試使用者數目:\", dataSet.test_samples_qty)\n",
    "\n",
    "# 建立模型\n",
    "model = create_model(dataSet)\n",
    "\n",
    "# 訓練模型\n",
    "train_model(model, dataSet, save_weights=True)"
   ]
  },
  {
   "cell_type": "code",
   "execution_count": null,
   "metadata": {},
   "outputs": [],
   "source": []
  }
 ],
 "metadata": {
  "kernelspec": {
   "display_name": "Python 3",
   "language": "python",
   "name": "python3"
  },
  "language_info": {
   "codemirror_mode": {
    "name": "ipython",
    "version": 3
   },
   "file_extension": ".py",
   "mimetype": "text/x-python",
   "name": "python",
   "nbconvert_exporter": "python",
   "pygments_lexer": "ipython3",
   "version": "3.5.2"
  }
 },
 "nbformat": 4,
 "nbformat_minor": 2
}
