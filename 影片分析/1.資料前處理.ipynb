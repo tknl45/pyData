{
 "cells": [
  {
   "cell_type": "code",
   "execution_count": 1,
   "metadata": {},
   "outputs": [
    {
     "name": "stderr",
     "output_type": "stream",
     "text": [
      "Using TensorFlow backend.\n"
     ]
    }
   ],
   "source": [
    "import datetime as dt\n",
    "import pandas as pd\n",
    "import numpy as np\n",
    "import keras\n",
    "import time"
   ]
  },
  {
   "cell_type": "code",
   "execution_count": 4,
   "metadata": {},
   "outputs": [],
   "source": [
    "    ratings_df = pd.read_csv('ratings.csv')\n",
    "\n",
    "    # ALL TRAIN SET\n",
    "    # Get only ratings between January 2008 to March 2013\n",
    "    all_train_start = \"09/01/1995\"\n",
    "    all_train_end = \"01/03/2013\"\n",
    "    all_train_start_ts = time.mktime(dt.datetime.strptime(all_train_start, \"%d/%m/%Y\").timetuple())\n",
    "    all_train_end_ts = time.mktime(dt.datetime.strptime(all_train_end, \"%d/%m/%Y\").timetuple())\n",
    "    all_train_data = ratings_df.drop(['rating'], axis=1)\n",
    "\n",
    "    # in date range\n",
    "    all_train_data = all_train_data.loc[(all_train_data['timestamp'] >= all_train_start_ts) & (all_train_data['timestamp'] <= all_train_end_ts)]\n",
    "    \n",
    "    # only users 5 < rated_movies < 101\n",
    "    all_train_data = all_train_data.groupby(\"userId\").filter(lambda x: len(x) > 5 and len(x) < 101)\n",
    "\n",
    "    # RECENT TRAIN SET\n",
    "    # Get only ratings between January 2008 to March 2013\n",
    "    train_start = \"01/01/2008\"\n",
    "    train_end = \"01/03/2013\"\n",
    "    train_start_ts = time.mktime(dt.datetime.strptime(train_start, \"%d/%m/%Y\").timetuple())\n",
    "    train_end_ts = time.mktime(dt.datetime.strptime(train_end, \"%d/%m/%Y\").timetuple())\n",
    "    train_data = ratings_df.drop(['rating'], axis=1)\n",
    "\n",
    "    # in date range\n",
    "    train_data = train_data.loc[(train_data['timestamp'] >= train_start_ts) & (train_data['timestamp'] <= train_end_ts)]\n",
    "    # only users 5 < rated_movies < 101\n",
    "    train_data = train_data.groupby(\"userId\").filter(lambda x: len(x) > 5 and len(x) < 101)\n",
    "\n",
    "    # DEV SET\n",
    "    # Get only ratings between April 2014 to April 2015\n",
    "    dev_start = \"01/04/2013\"\n",
    "    dev_end = \"01/04/2014\"\n",
    "    dev_start_ts = time.mktime(dt.datetime.strptime(dev_start, \"%d/%m/%Y\").timetuple())\n",
    "    dev_end_ts = time.mktime(dt.datetime.strptime(dev_end, \"%d/%m/%Y\").timetuple())\n",
    "    dev_data = ratings_df.drop(['rating'], axis=1)\n",
    "\n",
    "    # in date range\n",
    "    dev_data = dev_data.loc[(dev_data['timestamp'] >= dev_start_ts) & (dev_data['timestamp'] <= dev_end_ts)]\n",
    "    # only users 5 < rated_movies < 101\n",
    "    dev_data = dev_data.groupby(\"userId\").filter(lambda x: len(x) > 5 and len(x) < 101)\n",
    "\n",
    "    # TEST SET\n",
    "    # Get only ratings between April 2015 to April 2016\n",
    "    test_start = \"02/04/2014\"\n",
    "    test_end = \"01/04/2015\"\n",
    "    test_start_ts = time.mktime(dt.datetime.strptime(test_start, \"%d/%m/%Y\").timetuple())\n",
    "    test_end_ts = time.mktime(dt.datetime.strptime(test_end, \"%d/%m/%Y\").timetuple())\n",
    "    test_data = ratings_df.drop(['rating'], axis=1)\n",
    "\n",
    "    # in date range\n",
    "    test_data = test_data.loc[(test_data['timestamp'] >= test_start_ts) & (test_data['timestamp'] <= test_end_ts)]\n",
    "    # only users 5 < rated_movies < 101\n",
    "    test_data = test_data.groupby(\"userId\").filter(lambda x: len(x) > 5 and len(x) < 101)\n",
    "\n",
    "    all_train_data.columns = ['SessionId', 'ItemId', 'Time']\n",
    "    train_data.columns = ['SessionId', 'ItemId', 'Time']\n",
    "    dev_data.columns = ['SessionId', 'ItemId', 'Time']\n",
    "    test_data.columns = ['SessionId', 'ItemId', 'Time']\n",
    "\n",
    "    all_train_data.to_csv('processed_all_train.csv', sep='\\t', index=False)\n",
    "    train_data.to_csv('processed_train.csv', sep='\\t', index=False)\n",
    "    dev_data.to_csv('processed_dev.csv', sep='\\t', index=False)\n",
    "    test_data.to_csv('processed_test.csv', sep='\\t', index=False)"
   ]
  },
  {
   "cell_type": "code",
   "execution_count": 5,
   "metadata": {},
   "outputs": [],
   "source": [
    "from matplotlib import pyplot as plt"
   ]
  },
  {
   "cell_type": "code",
   "execution_count": 6,
   "metadata": {},
   "outputs": [],
   "source": [
    "def preprocess_df(df):    \n",
    "    n_items = len(train_data['ItemId'].unique())\n",
    "    aux = list(train_data['ItemId'].unique())\n",
    "    itemids = np.array(aux)\n",
    "    itemidmap = pd.Series(data=np.arange(n_items), index=itemids)  # (id_item => (0, n_items))\n",
    "    \n",
    "    item_key = 'ItemId'\n",
    "    session_key = 'SessionId'\n",
    "    time_key = 'Time'\n",
    "    \n",
    "    data = pd.merge(df, pd.DataFrame({item_key:itemids, 'ItemIdx':itemidmap[itemids].values}), on=item_key, how='inner')\n",
    "    data.sort_values([session_key, time_key], inplace=True)\n",
    "\n",
    "    length = len(data['ItemId'])\n",
    "        \n",
    "    return data"
   ]
  },
  {
   "cell_type": "code",
   "execution_count": 7,
   "metadata": {},
   "outputs": [],
   "source": [
    "def compute_dwell_time(df):\n",
    "   \n",
    "    times_t = np.roll(df['Time'], -1) # Take time row\n",
    "    times_dt  = df['Time']            # Copy, then displace by one\n",
    "    \n",
    "    diffs = np.subtract(times_t, times_dt) # Take the pairwise difference\n",
    "    \n",
    "    length = len(df['ItemId'])\n",
    "    \n",
    "    # cummulative offset start for each session\n",
    "    offset_sessions = np.zeros(df['SessionId'].nunique()+1, dtype=np.int32)\n",
    "    offset_sessions[1:] = df.groupby('SessionId').size().cumsum() \n",
    "    \n",
    "    offset_sessions = offset_sessions - 1\n",
    "    offset_sessions = np.roll(offset_sessions, -1)\n",
    "    \n",
    "    # session transition implies zero-dwell-time\n",
    "    # note: paper statistics do not consider null entries, \n",
    "    # though they are still checked when augmenting\n",
    "    np.put(diffs, offset_sessions, np.zeros((offset_sessions.shape)), mode='raise')\n",
    "        \n",
    "    return diffs"
   ]
  },
  {
   "cell_type": "code",
   "execution_count": 8,
   "metadata": {},
   "outputs": [],
   "source": [
    "# get paper statistics\n",
    "def get_statistics(dts):\n",
    "    filtered = np.array(list(filter(lambda x: int(x) != 0, dts)))\n",
    "    pd_dts = pd.DataFrame(filtered)\n",
    "    pd_dts.boxplot(vert=False, showfliers=False) # no outliers in boxplot\n",
    "    plt.show()\n",
    "    pd_dts.describe()"
   ]
  },
  {
   "cell_type": "code",
   "execution_count": 9,
   "metadata": {},
   "outputs": [],
   "source": [
    "def join_dwell_reps(df, dt, threshold=2000):\n",
    "    # Calculate d_ti/threshold + 1\n",
    "    # then add column to dataFrame\n",
    "    \n",
    "    dt //= threshold\n",
    "    dt += 1   \n",
    "    df['DwellReps'] = pd.Series(dt.astype(np.int64), index=dt.index)\n",
    "    #return df\n"
   ]
  },
  {
   "cell_type": "code",
   "execution_count": 10,
   "metadata": {},
   "outputs": [],
   "source": [
    "def augment(df):    \n",
    "    col_names = list(df.columns.values)[:3]\n",
    "    print(col_names)\n",
    "    augmented = np.repeat(df.values, df['DwellReps'], axis=0) \n",
    "    print(augmented[0][:3])  \n",
    "    augmented = pd.DataFrame(data=augmented[:,:3],\n",
    "                             columns=col_names)\n",
    "    \n",
    "    dtype = {'SessionId': np.int64, \n",
    "             'ItemId': np.int64, \n",
    "             'Time': np.float32}\n",
    "    \n",
    "    for k, v in dtype.items():\n",
    "        augmented[k] = augmented[k].astype(v)\n",
    "                             \n",
    "    \n",
    "    return augmented"
   ]
  },
  {
   "cell_type": "code",
   "execution_count": 11,
   "metadata": {},
   "outputs": [
    {
     "data": {
      "image/png": "[encoded data removed]",
      "text/plain": [
       "<Figure size 432x288 with 1 Axes>"
      ]
     },
     "metadata": {
      "needs_background": "light"
     },
     "output_type": "display_data"
    },
    {
     "name": "stdout",
     "output_type": "stream",
     "text": [
      "['SessionId', 'ItemId', 'Time']\n",
      "[        18      56788 1204200841]\n"
     ]
    }
   ],
   "source": [
    "# load RSC15 preprocessed train dataframe\n",
    "    PATH_TO_TRAIN = 'processed_train.csv'\n",
    "    train_data = pd.read_csv(PATH_TO_TRAIN, sep='\\t', dtype={'ItemId':np.int64})\n",
    "\n",
    "    new_df = preprocess_df(train_data)\n",
    "    dts = compute_dwell_time(new_df)\n",
    "\n",
    "    get_statistics(dts)\n",
    "\n",
    "    join_dwell_reps(new_df, dts, threshold=200000)\n",
    "\n",
    "    # Now, we augment the sessions copying each entry an additional (dwellReps[i]-1) times\n",
    "    df_aug = augment(new_df)\n",
    "    df_aug.to_csv(\"processed_augmented_train.csv\", index=False, sep='\\t')"
   ]
  },
  {
   "cell_type": "code",
   "execution_count": null,
   "metadata": {},
   "outputs": [],
   "source": []
  }
 ],
 "metadata": {
  "kernelspec": {
   "display_name": "Python 3",
   "language": "python",
   "name": "python3"
  },
  "language_info": {
   "codemirror_mode": {
    "name": "ipython",
    "version": 3
   },
   "file_extension": ".py",
   "mimetype": "text/x-python",
   "name": "python",
   "nbconvert_exporter": "python",
   "pygments_lexer": "ipython3",
   "version": "3.5.2"
  }
 },
 "nbformat": 4,
 "nbformat_minor": 2
}
